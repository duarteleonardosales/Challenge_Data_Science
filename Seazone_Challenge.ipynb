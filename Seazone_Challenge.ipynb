{
  "cells": [
    {
      "cell_type": "markdown",
      "metadata": {
        "id": "view-in-github",
        "colab_type": "text"
      },
      "source": [
        "<a href=\"https://colab.research.google.com/github/duarteleonardosales/Challenge_Data_Science/blob/main/Seazone_Challenge.ipynb\" target=\"_parent\"><img src=\"https://colab.research.google.com/assets/colab-badge.svg\" alt=\"Open In Colab\"/></a>"
      ]
    },
    {
      "cell_type": "markdown",
      "metadata": {
        "id": "MMMFG8GXBbVf"
      },
      "source": [
        "# Analise de dados de ocupação e preço de anúncios"
      ]
    },
    {
      "cell_type": "markdown",
      "metadata": {
        "id": "NkR2zizWBtuG"
      },
      "source": [
        "# Realizar imports"
      ]
    },
    {
      "cell_type": "code",
      "execution_count": 28,
      "metadata": {
        "id": "cA3Co-bIBN3H"
      },
      "outputs": [],
      "source": [
        "import pandas as pd\n",
        "import io\n",
        "import requests\n",
        "import seaborn as sns\n",
        "import numpy as np"
      ]
    },
    {
      "cell_type": "markdown",
      "metadata": {
        "id": "uiSL-XirB2uu"
      },
      "source": [
        "# Ler o \"CSV\""
      ]
    },
    {
      "cell_type": "code",
      "execution_count": 29,
      "metadata": {
        "id": "-8gmkyDmB0du"
      },
      "outputs": [],
      "source": [
        "url_details='https://s3.amazonaws.com/gupy5/production/companies/8683/emails/1642617903284/e5eef080-7957-11ec-aeed-e34631527269/desafio_details.csv'\n",
        "url_price='https://s3.amazonaws.com/gupy5/production/companies/8683/emails/1642617903282/e1ddd510-7957-11ec-80bf-9d0ec3c24431/desafio_priceav.csv'\n",
        "\n",
        "request_details=requests.get(url_details).content\n",
        "df_details=pd.read_csv(io.StringIO(request_details.decode('utf-8')))\n",
        "df_details.drop('Unnamed: 0', axis=1, inplace=True)\n",
        "\n",
        "request_price=requests.get(url_price).content\n",
        "df_price=pd.read_csv(io.StringIO(request_price.decode('utf-8')))\n",
        "df_price.drop(['Unnamed: 0', 'Unnamed: 0.1'], axis=1, inplace=True)\n",
        "\n",
        "#print(df_details)\n",
        "#print(df_price)"
      ]
    },
    {
      "cell_type": "markdown",
      "metadata": {
        "id": "dilYPRL6I2QU"
      },
      "source": [
        "# 1) Ordene os bairros em ordem crescente de número de listings"
      ]
    },
    {
      "cell_type": "code",
      "execution_count": 30,
      "metadata": {
        "colab": {
          "base_uri": "https://localhost:8080/"
        },
        "id": "tWt78pbRI8QS",
        "outputId": "c0fc4e93-30b6-45ff-d2c9-526d5a716f10"
      },
      "outputs": [
        {
          "output_type": "execute_result",
          "data": {
            "text/plain": [
              "Centro                 278\n",
              "Lagoa da Conceição     309\n",
              "Jurerê                 539\n",
              "Canasvieiras          1177\n",
              "Ingleses              2388\n",
              "Name: suburb, dtype: int64"
            ]
          },
          "metadata": {},
          "execution_count": 30
        }
      ],
      "source": [
        "df_details['suburb'].value_counts(ascending=True) #ascending True para ordenar de modo crescente"
      ]
    },
    {
      "cell_type": "code",
      "execution_count": 31,
      "metadata": {
        "id": "2BuyhSTQNS0Z"
      },
      "outputs": [],
      "source": [
        "#VERIFICAR SE TEM NAN NA COLUNA\n",
        "#df_price['occupied'].isna().unique()"
      ]
    },
    {
      "cell_type": "code",
      "execution_count": 32,
      "metadata": {
        "colab": {
          "base_uri": "https://localhost:8080/",
          "height": 458
        },
        "id": "mhXWB-QgPRzy",
        "outputId": "22b737d0-f573-4dd7-89d6-f5aa13bc3ff6"
      },
      "outputs": [
        {
          "output_type": "execute_result",
          "data": {
            "text/plain": [
              "<seaborn.axisgrid.FacetGrid at 0x7fc2ad3aef90>"
            ]
          },
          "metadata": {},
          "execution_count": 32
        },
        {
          "output_type": "display_data",
          "data": {
            "image/png": "[encoded data removed]",
            "text/plain": [
              "<Figure size 360x360 with 1 Axes>"
            ]
          },
          "metadata": {
            "needs_background": "light"
          }
        }
      ],
      "source": [
        "g = sns.catplot(x=\"suburb\", kind=\"count\", data=df_details,\n",
        "                ci=None, legend_out=False, palette=\"Blues_d\",\n",
        "                order = df_details['suburb'].value_counts(ascending=True).index)\n",
        "\n",
        "g.set_xticklabels(rotation=45, horizontalalignment='right')\n",
        "g.set_axis_labels('Bairro', 'Quantidade de anúncios', fontsize=12)"
      ]
    },
    {
      "cell_type": "markdown",
      "metadata": {
        "id": "1gdmTj12LvnU"
      },
      "source": [
        "## Verificar se cada linha representa um único anúncio"
      ]
    },
    {
      "cell_type": "code",
      "execution_count": 33,
      "metadata": {
        "colab": {
          "base_uri": "https://localhost:8080/"
        },
        "id": "rNhRA3FiKCGd",
        "outputId": "a9651554-2cd4-454e-e59c-c26fedc220e3"
      },
      "outputs": [
        {
          "output_type": "stream",
          "name": "stdout",
          "text": [
            "OK! Cada linha representa um único anúncio!\n"
          ]
        }
      ],
      "source": [
        "if df_details['airbnb_listing_id'].nunique(dropna=False) == df_details['suburb'].value_counts(ascending=True).sum():\n",
        "  print('OK! Cada linha representa um único anúncio!')"
      ]
    },
    {
      "cell_type": "markdown",
      "metadata": {
        "id": "i9KPs1a0VJUD"
      },
      "source": [
        "# 2) Ordene os bairros em ordem crescente de faturamento médio dos listings"
      ]
    },
    {
      "cell_type": "code",
      "source": [
        "# Foi verifica que existem linhas duplicadas.\n",
        "# Não pode haver duas linhas com airbnb_listing_id, booked_on e date iguais.\n",
        "# Remover linhas duplicadas.\n",
        "\n",
        "df_price.drop_duplicates(subset=['airbnb_listing_id', 'booked_on', 'date'], inplace= True)\n",
        "\n",
        "df_price.info()"
      ],
      "metadata": {
        "colab": {
          "base_uri": "https://localhost:8080/"
        },
        "id": "jEYpc6z94CgR",
        "outputId": "245cb1b1-7ac5-434d-b4de-4d8f37739a6d"
      },
      "execution_count": 34,
      "outputs": [
        {
          "output_type": "stream",
          "name": "stdout",
          "text": [
            "<class 'pandas.core.frame.DataFrame'>\n",
            "Int64Index: 284086 entries, 0 to 289918\n",
            "Data columns (total 5 columns):\n",
            " #   Column             Non-Null Count   Dtype  \n",
            "---  ------             --------------   -----  \n",
            " 0   airbnb_listing_id  284086 non-null  int64  \n",
            " 1   booked_on          284086 non-null  object \n",
            " 2   date               284086 non-null  object \n",
            " 3   price_string       284086 non-null  float64\n",
            " 4   occupied           284086 non-null  int64  \n",
            "dtypes: float64(1), int64(2), object(2)\n",
            "memory usage: 13.0+ MB\n"
          ]
        }
      ]
    },
    {
      "cell_type": "code",
      "execution_count": 35,
      "metadata": {
        "colab": {
          "base_uri": "https://localhost:8080/",
          "height": 423
        },
        "id": "BiJXxPLDek68",
        "outputId": "8849de06-b4bf-40b9-ea5a-33738dba37f2"
      },
      "outputs": [
        {
          "output_type": "execute_result",
          "data": {
            "text/html": [
              "\n",
              "  <div id=\"df-2e7183b0-18da-4a7c-bd1e-e95292277f6d\">\n",
              "    <div class=\"colab-df-container\">\n",
              "      <div>\n",
              "<style scoped>\n",
              "    .dataframe tbody tr th:only-of-type {\n",
              "        vertical-align: middle;\n",
              "    }\n",
              "\n",
              "    .dataframe tbody tr th {\n",
              "        vertical-align: top;\n",
              "    }\n",
              "\n",
              "    .dataframe thead th {\n",
              "        text-align: right;\n",
              "    }\n",
              "</style>\n",
              "<table border=\"1\" class=\"dataframe\">\n",
              "  <thead>\n",
              "    <tr style=\"text-align: right;\">\n",
              "      <th></th>\n",
              "      <th>airbnb_listing_id</th>\n",
              "      <th>price_string</th>\n",
              "    </tr>\n",
              "  </thead>\n",
              "  <tbody>\n",
              "    <tr>\n",
              "      <th>12</th>\n",
              "      <td>40206270</td>\n",
              "      <td>380.0</td>\n",
              "    </tr>\n",
              "    <tr>\n",
              "      <th>13</th>\n",
              "      <td>40206270</td>\n",
              "      <td>380.0</td>\n",
              "    </tr>\n",
              "    <tr>\n",
              "      <th>52</th>\n",
              "      <td>40206270</td>\n",
              "      <td>195.0</td>\n",
              "    </tr>\n",
              "    <tr>\n",
              "      <th>53</th>\n",
              "      <td>40206270</td>\n",
              "      <td>350.0</td>\n",
              "    </tr>\n",
              "    <tr>\n",
              "      <th>54</th>\n",
              "      <td>40206270</td>\n",
              "      <td>350.0</td>\n",
              "    </tr>\n",
              "    <tr>\n",
              "      <th>...</th>\n",
              "      <td>...</td>\n",
              "      <td>...</td>\n",
              "    </tr>\n",
              "    <tr>\n",
              "      <th>289907</th>\n",
              "      <td>40199361</td>\n",
              "      <td>250.0</td>\n",
              "    </tr>\n",
              "    <tr>\n",
              "      <th>289913</th>\n",
              "      <td>40199361</td>\n",
              "      <td>250.0</td>\n",
              "    </tr>\n",
              "    <tr>\n",
              "      <th>289916</th>\n",
              "      <td>40199361</td>\n",
              "      <td>250.0</td>\n",
              "    </tr>\n",
              "    <tr>\n",
              "      <th>289917</th>\n",
              "      <td>40199361</td>\n",
              "      <td>250.0</td>\n",
              "    </tr>\n",
              "    <tr>\n",
              "      <th>289918</th>\n",
              "      <td>40199361</td>\n",
              "      <td>200.0</td>\n",
              "    </tr>\n",
              "  </tbody>\n",
              "</table>\n",
              "<p>132023 rows × 2 columns</p>\n",
              "</div>\n",
              "      <button class=\"colab-df-convert\" onclick=\"convertToInteractive('df-2e7183b0-18da-4a7c-bd1e-e95292277f6d')\"\n",
              "              title=\"Convert this dataframe to an interactive table.\"\n",
              "              style=\"display:none;\">\n",
              "        \n",
              "  <svg xmlns=\"http://www.w3.org/2000/svg\" height=\"24px\"viewBox=\"0 0 24 24\"\n",
              "       width=\"24px\">\n",
              "    <path d=\"M0 0h24v24H0V0z\" fill=\"none\"/>\n",
              "    <path d=\"M18.56 5.44l.94 2.06.94-2.06 2.06-.94-2.06-.94-.94-2.06-.94 2.06-2.06.94zm-11 1L8.5 8.5l.94-2.06 2.06-.94-2.06-.94L8.5 2.5l-.94 2.06-2.06.94zm10 10l.94 2.06.94-2.06 2.06-.94-2.06-.94-.94-2.06-.94 2.06-2.06.94z\"/><path d=\"M17.41 7.96l-1.37-1.37c-.4-.4-.92-.59-1.43-.59-.52 0-1.04.2-1.43.59L10.3 9.45l-7.72 7.72c-.78.78-.78 2.05 0 2.83L4 21.41c.39.39.9.59 1.41.59.51 0 1.02-.2 1.41-.59l7.78-7.78 2.81-2.81c.8-.78.8-2.07 0-2.86zM5.41 20L4 18.59l7.72-7.72 1.47 1.35L5.41 20z\"/>\n",
              "  </svg>\n",
              "      </button>\n",
              "      \n",
              "  <style>\n",
              "    .colab-df-container {\n",
              "      display:flex;\n",
              "      flex-wrap:wrap;\n",
              "      gap: 12px;\n",
              "    }\n",
              "\n",
              "    .colab-df-convert {\n",
              "      background-color: #E8F0FE;\n",
              "      border: none;\n",
              "      border-radius: 50%;\n",
              "      cursor: pointer;\n",
              "      display: none;\n",
              "      fill: #1967D2;\n",
              "      height: 32px;\n",
              "      padding: 0 0 0 0;\n",
              "      width: 32px;\n",
              "    }\n",
              "\n",
              "    .colab-df-convert:hover {\n",
              "      background-color: #E2EBFA;\n",
              "      box-shadow: 0px 1px 2px rgba(60, 64, 67, 0.3), 0px 1px 3px 1px rgba(60, 64, 67, 0.15);\n",
              "      fill: #174EA6;\n",
              "    }\n",
              "\n",
              "    [theme=dark] .colab-df-convert {\n",
              "      background-color: #3B4455;\n",
              "      fill: #D2E3FC;\n",
              "    }\n",
              "\n",
              "    [theme=dark] .colab-df-convert:hover {\n",
              "      background-color: #434B5C;\n",
              "      box-shadow: 0px 1px 3px 1px rgba(0, 0, 0, 0.15);\n",
              "      filter: drop-shadow(0px 1px 2px rgba(0, 0, 0, 0.3));\n",
              "      fill: #FFFFFF;\n",
              "    }\n",
              "  </style>\n",
              "\n",
              "      <script>\n",
              "        const buttonEl =\n",
              "          document.querySelector('#df-2e7183b0-18da-4a7c-bd1e-e95292277f6d button.colab-df-convert');\n",
              "        buttonEl.style.display =\n",
              "          google.colab.kernel.accessAllowed ? 'block' : 'none';\n",
              "\n",
              "        async function convertToInteractive(key) {\n",
              "          const element = document.querySelector('#df-2e7183b0-18da-4a7c-bd1e-e95292277f6d');\n",
              "          const dataTable =\n",
              "            await google.colab.kernel.invokeFunction('convertToInteractive',\n",
              "                                                     [key], {});\n",
              "          if (!dataTable) return;\n",
              "\n",
              "          const docLinkHtml = 'Like what you see? Visit the ' +\n",
              "            '<a target=\"_blank\" href=https://colab.research.google.com/notebooks/data_table.ipynb>data table notebook</a>'\n",
              "            + ' to learn more about interactive tables.';\n",
              "          element.innerHTML = '';\n",
              "          dataTable['output_type'] = 'display_data';\n",
              "          await google.colab.output.renderOutput(dataTable, element);\n",
              "          const docLink = document.createElement('div');\n",
              "          docLink.innerHTML = docLinkHtml;\n",
              "          element.appendChild(docLink);\n",
              "        }\n",
              "      </script>\n",
              "    </div>\n",
              "  </div>\n",
              "  "
            ],
            "text/plain": [
              "        airbnb_listing_id  price_string\n",
              "12               40206270         380.0\n",
              "13               40206270         380.0\n",
              "52               40206270         195.0\n",
              "53               40206270         350.0\n",
              "54               40206270         350.0\n",
              "...                   ...           ...\n",
              "289907           40199361         250.0\n",
              "289913           40199361         250.0\n",
              "289916           40199361         250.0\n",
              "289917           40199361         250.0\n",
              "289918           40199361         200.0\n",
              "\n",
              "[132023 rows x 2 columns]"
            ]
          },
          "metadata": {},
          "execution_count": 35
        }
      ],
      "source": [
        "# Criar um DF com os anuncios onde houve locação\n",
        "# Obs.: A coluna \"booked_on\" é igual a \"blank\" quando não há locação.\n",
        "df_alugado = df_price.query(\"booked_on != 'blank'\")\n",
        "df_alugado = df_alugado[['airbnb_listing_id', 'price_string']]\n",
        "df_alugado\n"
      ]
    },
    {
      "cell_type": "code",
      "execution_count": 36,
      "metadata": {
        "colab": {
          "base_uri": "https://localhost:8080/",
          "height": 423
        },
        "id": "tWPOxiLNf0Oa",
        "outputId": "bc961013-1f98-4dbc-df7e-e5e9af4bfee2"
      },
      "outputs": [
        {
          "output_type": "execute_result",
          "data": {
            "text/html": [
              "\n",
              "  <div id=\"df-b8474cf9-b3be-4d19-84cb-870c59d91173\">\n",
              "    <div class=\"colab-df-container\">\n",
              "      <div>\n",
              "<style scoped>\n",
              "    .dataframe tbody tr th:only-of-type {\n",
              "        vertical-align: middle;\n",
              "    }\n",
              "\n",
              "    .dataframe tbody tr th {\n",
              "        vertical-align: top;\n",
              "    }\n",
              "\n",
              "    .dataframe thead th {\n",
              "        text-align: right;\n",
              "    }\n",
              "</style>\n",
              "<table border=\"1\" class=\"dataframe\">\n",
              "  <thead>\n",
              "    <tr style=\"text-align: right;\">\n",
              "      <th></th>\n",
              "      <th>airbnb_listing_id</th>\n",
              "      <th>suburb</th>\n",
              "    </tr>\n",
              "  </thead>\n",
              "  <tbody>\n",
              "    <tr>\n",
              "      <th>0</th>\n",
              "      <td>31389869</td>\n",
              "      <td>Jurerê</td>\n",
              "    </tr>\n",
              "    <tr>\n",
              "      <th>1</th>\n",
              "      <td>40010667</td>\n",
              "      <td>Canasvieiras</td>\n",
              "    </tr>\n",
              "    <tr>\n",
              "      <th>2</th>\n",
              "      <td>38905997</td>\n",
              "      <td>Ingleses</td>\n",
              "    </tr>\n",
              "    <tr>\n",
              "      <th>3</th>\n",
              "      <td>22343656</td>\n",
              "      <td>Ingleses</td>\n",
              "    </tr>\n",
              "    <tr>\n",
              "      <th>4</th>\n",
              "      <td>18328184</td>\n",
              "      <td>Canasvieiras</td>\n",
              "    </tr>\n",
              "    <tr>\n",
              "      <th>...</th>\n",
              "      <td>...</td>\n",
              "      <td>...</td>\n",
              "    </tr>\n",
              "    <tr>\n",
              "      <th>4686</th>\n",
              "      <td>34392248</td>\n",
              "      <td>Ingleses</td>\n",
              "    </tr>\n",
              "    <tr>\n",
              "      <th>4687</th>\n",
              "      <td>44538969</td>\n",
              "      <td>Canasvieiras</td>\n",
              "    </tr>\n",
              "    <tr>\n",
              "      <th>4688</th>\n",
              "      <td>16609826</td>\n",
              "      <td>Jurerê</td>\n",
              "    </tr>\n",
              "    <tr>\n",
              "      <th>4689</th>\n",
              "      <td>31239515</td>\n",
              "      <td>Canasvieiras</td>\n",
              "    </tr>\n",
              "    <tr>\n",
              "      <th>4690</th>\n",
              "      <td>5078051</td>\n",
              "      <td>Ingleses</td>\n",
              "    </tr>\n",
              "  </tbody>\n",
              "</table>\n",
              "<p>4691 rows × 2 columns</p>\n",
              "</div>\n",
              "      <button class=\"colab-df-convert\" onclick=\"convertToInteractive('df-b8474cf9-b3be-4d19-84cb-870c59d91173')\"\n",
              "              title=\"Convert this dataframe to an interactive table.\"\n",
              "              style=\"display:none;\">\n",
              "        \n",
              "  <svg xmlns=\"http://www.w3.org/2000/svg\" height=\"24px\"viewBox=\"0 0 24 24\"\n",
              "       width=\"24px\">\n",
              "    <path d=\"M0 0h24v24H0V0z\" fill=\"none\"/>\n",
              "    <path d=\"M18.56 5.44l.94 2.06.94-2.06 2.06-.94-2.06-.94-.94-2.06-.94 2.06-2.06.94zm-11 1L8.5 8.5l.94-2.06 2.06-.94-2.06-.94L8.5 2.5l-.94 2.06-2.06.94zm10 10l.94 2.06.94-2.06 2.06-.94-2.06-.94-.94-2.06-.94 2.06-2.06.94z\"/><path d=\"M17.41 7.96l-1.37-1.37c-.4-.4-.92-.59-1.43-.59-.52 0-1.04.2-1.43.59L10.3 9.45l-7.72 7.72c-.78.78-.78 2.05 0 2.83L4 21.41c.39.39.9.59 1.41.59.51 0 1.02-.2 1.41-.59l7.78-7.78 2.81-2.81c.8-.78.8-2.07 0-2.86zM5.41 20L4 18.59l7.72-7.72 1.47 1.35L5.41 20z\"/>\n",
              "  </svg>\n",
              "      </button>\n",
              "      \n",
              "  <style>\n",
              "    .colab-df-container {\n",
              "      display:flex;\n",
              "      flex-wrap:wrap;\n",
              "      gap: 12px;\n",
              "    }\n",
              "\n",
              "    .colab-df-convert {\n",
              "      background-color: #E8F0FE;\n",
              "      border: none;\n",
              "      border-radius: 50%;\n",
              "      cursor: pointer;\n",
              "      display: none;\n",
              "      fill: #1967D2;\n",
              "      height: 32px;\n",
              "      padding: 0 0 0 0;\n",
              "      width: 32px;\n",
              "    }\n",
              "\n",
              "    .colab-df-convert:hover {\n",
              "      background-color: #E2EBFA;\n",
              "      box-shadow: 0px 1px 2px rgba(60, 64, 67, 0.3), 0px 1px 3px 1px rgba(60, 64, 67, 0.15);\n",
              "      fill: #174EA6;\n",
              "    }\n",
              "\n",
              "    [theme=dark] .colab-df-convert {\n",
              "      background-color: #3B4455;\n",
              "      fill: #D2E3FC;\n",
              "    }\n",
              "\n",
              "    [theme=dark] .colab-df-convert:hover {\n",
              "      background-color: #434B5C;\n",
              "      box-shadow: 0px 1px 3px 1px rgba(0, 0, 0, 0.15);\n",
              "      filter: drop-shadow(0px 1px 2px rgba(0, 0, 0, 0.3));\n",
              "      fill: #FFFFFF;\n",
              "    }\n",
              "  </style>\n",
              "\n",
              "      <script>\n",
              "        const buttonEl =\n",
              "          document.querySelector('#df-b8474cf9-b3be-4d19-84cb-870c59d91173 button.colab-df-convert');\n",
              "        buttonEl.style.display =\n",
              "          google.colab.kernel.accessAllowed ? 'block' : 'none';\n",
              "\n",
              "        async function convertToInteractive(key) {\n",
              "          const element = document.querySelector('#df-b8474cf9-b3be-4d19-84cb-870c59d91173');\n",
              "          const dataTable =\n",
              "            await google.colab.kernel.invokeFunction('convertToInteractive',\n",
              "                                                     [key], {});\n",
              "          if (!dataTable) return;\n",
              "\n",
              "          const docLinkHtml = 'Like what you see? Visit the ' +\n",
              "            '<a target=\"_blank\" href=https://colab.research.google.com/notebooks/data_table.ipynb>data table notebook</a>'\n",
              "            + ' to learn more about interactive tables.';\n",
              "          element.innerHTML = '';\n",
              "          dataTable['output_type'] = 'display_data';\n",
              "          await google.colab.output.renderOutput(dataTable, element);\n",
              "          const docLink = document.createElement('div');\n",
              "          docLink.innerHTML = docLinkHtml;\n",
              "          element.appendChild(docLink);\n",
              "        }\n",
              "      </script>\n",
              "    </div>\n",
              "  </div>\n",
              "  "
            ],
            "text/plain": [
              "      airbnb_listing_id        suburb\n",
              "0              31389869        Jurerê\n",
              "1              40010667  Canasvieiras\n",
              "2              38905997      Ingleses\n",
              "3              22343656      Ingleses\n",
              "4              18328184  Canasvieiras\n",
              "...                 ...           ...\n",
              "4686           34392248      Ingleses\n",
              "4687           44538969  Canasvieiras\n",
              "4688           16609826        Jurerê\n",
              "4689           31239515  Canasvieiras\n",
              "4690            5078051      Ingleses\n",
              "\n",
              "[4691 rows x 2 columns]"
            ]
          },
          "metadata": {},
          "execution_count": 36
        }
      ],
      "source": [
        "#Criar um DF com os IDs e os bairros correspondentes\n",
        "'''df_new = df_details.merge(df_alugado, on = \"airbnb_listing_id\", how = \"left\")\n",
        "'''\n",
        "df_id_bairro = df_details[['airbnb_listing_id', 'suburb']]\n",
        "df_id_bairro"
      ]
    },
    {
      "cell_type": "code",
      "execution_count": 37,
      "metadata": {
        "colab": {
          "base_uri": "https://localhost:8080/",
          "height": 423
        },
        "id": "hL_AHaN8q3Ut",
        "outputId": "e17a8c8b-4473-4468-9dfc-53d5b201c4ec"
      },
      "outputs": [
        {
          "output_type": "execute_result",
          "data": {
            "text/html": [
              "\n",
              "  <div id=\"df-83e4ac13-4461-48c9-9ce4-76aa2352ad67\">\n",
              "    <div class=\"colab-df-container\">\n",
              "      <div>\n",
              "<style scoped>\n",
              "    .dataframe tbody tr th:only-of-type {\n",
              "        vertical-align: middle;\n",
              "    }\n",
              "\n",
              "    .dataframe tbody tr th {\n",
              "        vertical-align: top;\n",
              "    }\n",
              "\n",
              "    .dataframe thead th {\n",
              "        text-align: right;\n",
              "    }\n",
              "</style>\n",
              "<table border=\"1\" class=\"dataframe\">\n",
              "  <thead>\n",
              "    <tr style=\"text-align: right;\">\n",
              "      <th></th>\n",
              "      <th>airbnb_listing_id</th>\n",
              "      <th>price_string</th>\n",
              "      <th>suburb</th>\n",
              "    </tr>\n",
              "  </thead>\n",
              "  <tbody>\n",
              "    <tr>\n",
              "      <th>0</th>\n",
              "      <td>40206270</td>\n",
              "      <td>380.0</td>\n",
              "      <td>Ingleses</td>\n",
              "    </tr>\n",
              "    <tr>\n",
              "      <th>1</th>\n",
              "      <td>40206270</td>\n",
              "      <td>380.0</td>\n",
              "      <td>Ingleses</td>\n",
              "    </tr>\n",
              "    <tr>\n",
              "      <th>2</th>\n",
              "      <td>40206270</td>\n",
              "      <td>195.0</td>\n",
              "      <td>Ingleses</td>\n",
              "    </tr>\n",
              "    <tr>\n",
              "      <th>3</th>\n",
              "      <td>40206270</td>\n",
              "      <td>350.0</td>\n",
              "      <td>Ingleses</td>\n",
              "    </tr>\n",
              "    <tr>\n",
              "      <th>4</th>\n",
              "      <td>40206270</td>\n",
              "      <td>350.0</td>\n",
              "      <td>Ingleses</td>\n",
              "    </tr>\n",
              "    <tr>\n",
              "      <th>...</th>\n",
              "      <td>...</td>\n",
              "      <td>...</td>\n",
              "      <td>...</td>\n",
              "    </tr>\n",
              "    <tr>\n",
              "      <th>132018</th>\n",
              "      <td>40199361</td>\n",
              "      <td>250.0</td>\n",
              "      <td>Canasvieiras</td>\n",
              "    </tr>\n",
              "    <tr>\n",
              "      <th>132019</th>\n",
              "      <td>40199361</td>\n",
              "      <td>250.0</td>\n",
              "      <td>Canasvieiras</td>\n",
              "    </tr>\n",
              "    <tr>\n",
              "      <th>132020</th>\n",
              "      <td>40199361</td>\n",
              "      <td>250.0</td>\n",
              "      <td>Canasvieiras</td>\n",
              "    </tr>\n",
              "    <tr>\n",
              "      <th>132021</th>\n",
              "      <td>40199361</td>\n",
              "      <td>250.0</td>\n",
              "      <td>Canasvieiras</td>\n",
              "    </tr>\n",
              "    <tr>\n",
              "      <th>132022</th>\n",
              "      <td>40199361</td>\n",
              "      <td>200.0</td>\n",
              "      <td>Canasvieiras</td>\n",
              "    </tr>\n",
              "  </tbody>\n",
              "</table>\n",
              "<p>132023 rows × 3 columns</p>\n",
              "</div>\n",
              "      <button class=\"colab-df-convert\" onclick=\"convertToInteractive('df-83e4ac13-4461-48c9-9ce4-76aa2352ad67')\"\n",
              "              title=\"Convert this dataframe to an interactive table.\"\n",
              "              style=\"display:none;\">\n",
              "        \n",
              "  <svg xmlns=\"http://www.w3.org/2000/svg\" height=\"24px\"viewBox=\"0 0 24 24\"\n",
              "       width=\"24px\">\n",
              "    <path d=\"M0 0h24v24H0V0z\" fill=\"none\"/>\n",
              "    <path d=\"M18.56 5.44l.94 2.06.94-2.06 2.06-.94-2.06-.94-.94-2.06-.94 2.06-2.06.94zm-11 1L8.5 8.5l.94-2.06 2.06-.94-2.06-.94L8.5 2.5l-.94 2.06-2.06.94zm10 10l.94 2.06.94-2.06 2.06-.94-2.06-.94-.94-2.06-.94 2.06-2.06.94z\"/><path d=\"M17.41 7.96l-1.37-1.37c-.4-.4-.92-.59-1.43-.59-.52 0-1.04.2-1.43.59L10.3 9.45l-7.72 7.72c-.78.78-.78 2.05 0 2.83L4 21.41c.39.39.9.59 1.41.59.51 0 1.02-.2 1.41-.59l7.78-7.78 2.81-2.81c.8-.78.8-2.07 0-2.86zM5.41 20L4 18.59l7.72-7.72 1.47 1.35L5.41 20z\"/>\n",
              "  </svg>\n",
              "      </button>\n",
              "      \n",
              "  <style>\n",
              "    .colab-df-container {\n",
              "      display:flex;\n",
              "      flex-wrap:wrap;\n",
              "      gap: 12px;\n",
              "    }\n",
              "\n",
              "    .colab-df-convert {\n",
              "      background-color: #E8F0FE;\n",
              "      border: none;\n",
              "      border-radius: 50%;\n",
              "      cursor: pointer;\n",
              "      display: none;\n",
              "      fill: #1967D2;\n",
              "      height: 32px;\n",
              "      padding: 0 0 0 0;\n",
              "      width: 32px;\n",
              "    }\n",
              "\n",
              "    .colab-df-convert:hover {\n",
              "      background-color: #E2EBFA;\n",
              "      box-shadow: 0px 1px 2px rgba(60, 64, 67, 0.3), 0px 1px 3px 1px rgba(60, 64, 67, 0.15);\n",
              "      fill: #174EA6;\n",
              "    }\n",
              "\n",
              "    [theme=dark] .colab-df-convert {\n",
              "      background-color: #3B4455;\n",
              "      fill: #D2E3FC;\n",
              "    }\n",
              "\n",
              "    [theme=dark] .colab-df-convert:hover {\n",
              "      background-color: #434B5C;\n",
              "      box-shadow: 0px 1px 3px 1px rgba(0, 0, 0, 0.15);\n",
              "      filter: drop-shadow(0px 1px 2px rgba(0, 0, 0, 0.3));\n",
              "      fill: #FFFFFF;\n",
              "    }\n",
              "  </style>\n",
              "\n",
              "      <script>\n",
              "        const buttonEl =\n",
              "          document.querySelector('#df-83e4ac13-4461-48c9-9ce4-76aa2352ad67 button.colab-df-convert');\n",
              "        buttonEl.style.display =\n",
              "          google.colab.kernel.accessAllowed ? 'block' : 'none';\n",
              "\n",
              "        async function convertToInteractive(key) {\n",
              "          const element = document.querySelector('#df-83e4ac13-4461-48c9-9ce4-76aa2352ad67');\n",
              "          const dataTable =\n",
              "            await google.colab.kernel.invokeFunction('convertToInteractive',\n",
              "                                                     [key], {});\n",
              "          if (!dataTable) return;\n",
              "\n",
              "          const docLinkHtml = 'Like what you see? Visit the ' +\n",
              "            '<a target=\"_blank\" href=https://colab.research.google.com/notebooks/data_table.ipynb>data table notebook</a>'\n",
              "            + ' to learn more about interactive tables.';\n",
              "          element.innerHTML = '';\n",
              "          dataTable['output_type'] = 'display_data';\n",
              "          await google.colab.output.renderOutput(dataTable, element);\n",
              "          const docLink = document.createElement('div');\n",
              "          docLink.innerHTML = docLinkHtml;\n",
              "          element.appendChild(docLink);\n",
              "        }\n",
              "      </script>\n",
              "    </div>\n",
              "  </div>\n",
              "  "
            ],
            "text/plain": [
              "        airbnb_listing_id  price_string        suburb\n",
              "0                40206270         380.0      Ingleses\n",
              "1                40206270         380.0      Ingleses\n",
              "2                40206270         195.0      Ingleses\n",
              "3                40206270         350.0      Ingleses\n",
              "4                40206270         350.0      Ingleses\n",
              "...                   ...           ...           ...\n",
              "132018           40199361         250.0  Canasvieiras\n",
              "132019           40199361         250.0  Canasvieiras\n",
              "132020           40199361         250.0  Canasvieiras\n",
              "132021           40199361         250.0  Canasvieiras\n",
              "132022           40199361         200.0  Canasvieiras\n",
              "\n",
              "[132023 rows x 3 columns]"
            ]
          },
          "metadata": {},
          "execution_count": 37
        }
      ],
      "source": [
        "# Criar um novo DF que une IDs (apenas onde há datas alugadas), os preços e os respectivos Bairros\n",
        "\n",
        "df_merge = df_alugado.merge(df_id_bairro, on = \"airbnb_listing_id\")\n",
        "df_merge\n",
        "\n",
        "# existem 3187 imoveis com occupied = 1"
      ]
    },
    {
      "cell_type": "code",
      "execution_count": 38,
      "metadata": {
        "colab": {
          "base_uri": "https://localhost:8080/",
          "height": 237
        },
        "id": "HlwbUx0mPWtj",
        "outputId": "e2e4f3de-34e3-4b87-ccb7-6e435e103ab3"
      },
      "outputs": [
        {
          "output_type": "execute_result",
          "data": {
            "text/html": [
              "\n",
              "  <div id=\"df-75825eeb-a725-4ec3-a693-3c0d4121a4c8\">\n",
              "    <div class=\"colab-df-container\">\n",
              "      <div>\n",
              "<style scoped>\n",
              "    .dataframe tbody tr th:only-of-type {\n",
              "        vertical-align: middle;\n",
              "    }\n",
              "\n",
              "    .dataframe tbody tr th {\n",
              "        vertical-align: top;\n",
              "    }\n",
              "\n",
              "    .dataframe thead th {\n",
              "        text-align: right;\n",
              "    }\n",
              "</style>\n",
              "<table border=\"1\" class=\"dataframe\">\n",
              "  <thead>\n",
              "    <tr style=\"text-align: right;\">\n",
              "      <th></th>\n",
              "      <th>Preço médio</th>\n",
              "    </tr>\n",
              "    <tr>\n",
              "      <th>Bairro</th>\n",
              "      <th></th>\n",
              "    </tr>\n",
              "  </thead>\n",
              "  <tbody>\n",
              "    <tr>\n",
              "      <th>Centro</th>\n",
              "      <td>218.732420</td>\n",
              "    </tr>\n",
              "    <tr>\n",
              "      <th>Lagoa da Conceição</th>\n",
              "      <td>239.889659</td>\n",
              "    </tr>\n",
              "    <tr>\n",
              "      <th>Canasvieiras</th>\n",
              "      <td>294.156946</td>\n",
              "    </tr>\n",
              "    <tr>\n",
              "      <th>Ingleses</th>\n",
              "      <td>358.260493</td>\n",
              "    </tr>\n",
              "    <tr>\n",
              "      <th>Jurerê</th>\n",
              "      <td>409.610886</td>\n",
              "    </tr>\n",
              "  </tbody>\n",
              "</table>\n",
              "</div>\n",
              "      <button class=\"colab-df-convert\" onclick=\"convertToInteractive('df-75825eeb-a725-4ec3-a693-3c0d4121a4c8')\"\n",
              "              title=\"Convert this dataframe to an interactive table.\"\n",
              "              style=\"display:none;\">\n",
              "        \n",
              "  <svg xmlns=\"http://www.w3.org/2000/svg\" height=\"24px\"viewBox=\"0 0 24 24\"\n",
              "       width=\"24px\">\n",
              "    <path d=\"M0 0h24v24H0V0z\" fill=\"none\"/>\n",
              "    <path d=\"M18.56 5.44l.94 2.06.94-2.06 2.06-.94-2.06-.94-.94-2.06-.94 2.06-2.06.94zm-11 1L8.5 8.5l.94-2.06 2.06-.94-2.06-.94L8.5 2.5l-.94 2.06-2.06.94zm10 10l.94 2.06.94-2.06 2.06-.94-2.06-.94-.94-2.06-.94 2.06-2.06.94z\"/><path d=\"M17.41 7.96l-1.37-1.37c-.4-.4-.92-.59-1.43-.59-.52 0-1.04.2-1.43.59L10.3 9.45l-7.72 7.72c-.78.78-.78 2.05 0 2.83L4 21.41c.39.39.9.59 1.41.59.51 0 1.02-.2 1.41-.59l7.78-7.78 2.81-2.81c.8-.78.8-2.07 0-2.86zM5.41 20L4 18.59l7.72-7.72 1.47 1.35L5.41 20z\"/>\n",
              "  </svg>\n",
              "      </button>\n",
              "      \n",
              "  <style>\n",
              "    .colab-df-container {\n",
              "      display:flex;\n",
              "      flex-wrap:wrap;\n",
              "      gap: 12px;\n",
              "    }\n",
              "\n",
              "    .colab-df-convert {\n",
              "      background-color: #E8F0FE;\n",
              "      border: none;\n",
              "      border-radius: 50%;\n",
              "      cursor: pointer;\n",
              "      display: none;\n",
              "      fill: #1967D2;\n",
              "      height: 32px;\n",
              "      padding: 0 0 0 0;\n",
              "      width: 32px;\n",
              "    }\n",
              "\n",
              "    .colab-df-convert:hover {\n",
              "      background-color: #E2EBFA;\n",
              "      box-shadow: 0px 1px 2px rgba(60, 64, 67, 0.3), 0px 1px 3px 1px rgba(60, 64, 67, 0.15);\n",
              "      fill: #174EA6;\n",
              "    }\n",
              "\n",
              "    [theme=dark] .colab-df-convert {\n",
              "      background-color: #3B4455;\n",
              "      fill: #D2E3FC;\n",
              "    }\n",
              "\n",
              "    [theme=dark] .colab-df-convert:hover {\n",
              "      background-color: #434B5C;\n",
              "      box-shadow: 0px 1px 3px 1px rgba(0, 0, 0, 0.15);\n",
              "      filter: drop-shadow(0px 1px 2px rgba(0, 0, 0, 0.3));\n",
              "      fill: #FFFFFF;\n",
              "    }\n",
              "  </style>\n",
              "\n",
              "      <script>\n",
              "        const buttonEl =\n",
              "          document.querySelector('#df-75825eeb-a725-4ec3-a693-3c0d4121a4c8 button.colab-df-convert');\n",
              "        buttonEl.style.display =\n",
              "          google.colab.kernel.accessAllowed ? 'block' : 'none';\n",
              "\n",
              "        async function convertToInteractive(key) {\n",
              "          const element = document.querySelector('#df-75825eeb-a725-4ec3-a693-3c0d4121a4c8');\n",
              "          const dataTable =\n",
              "            await google.colab.kernel.invokeFunction('convertToInteractive',\n",
              "                                                     [key], {});\n",
              "          if (!dataTable) return;\n",
              "\n",
              "          const docLinkHtml = 'Like what you see? Visit the ' +\n",
              "            '<a target=\"_blank\" href=https://colab.research.google.com/notebooks/data_table.ipynb>data table notebook</a>'\n",
              "            + ' to learn more about interactive tables.';\n",
              "          element.innerHTML = '';\n",
              "          dataTable['output_type'] = 'display_data';\n",
              "          await google.colab.output.renderOutput(dataTable, element);\n",
              "          const docLink = document.createElement('div');\n",
              "          docLink.innerHTML = docLinkHtml;\n",
              "          element.appendChild(docLink);\n",
              "        }\n",
              "      </script>\n",
              "    </div>\n",
              "  </div>\n",
              "  "
            ],
            "text/plain": [
              "                    Preço médio\n",
              "Bairro                         \n",
              "Centro               218.732420\n",
              "Lagoa da Conceição   239.889659\n",
              "Canasvieiras         294.156946\n",
              "Ingleses             358.260493\n",
              "Jurerê               409.610886"
            ]
          },
          "metadata": {},
          "execution_count": 38
        }
      ],
      "source": [
        "# Criar um DF correpondente ao faturamento médio por bairro\n",
        "df_faturamento_medio_por_bairro = df_merge.groupby(\"suburb\").mean()\n",
        "df_faturamento_medio_por_bairro.sort_values('price_string', ascending=True, inplace=True)\n",
        "\n",
        "# Renomear o preço, já que agora é preço médio\n",
        "df_faturamento_medio_por_bairro.columns = ['airbnb_listing_id', 'Preço médio']\n",
        "df_faturamento_medio_por_bairro.index.names = ['Bairro']\n",
        "df_faturamento_medio_por_bairro['Preço médio'].to_frame()\n",
        "#df_faturamento_medio_por_bairro"
      ]
    },
    {
      "cell_type": "code",
      "execution_count": 39,
      "metadata": {
        "colab": {
          "base_uri": "https://localhost:8080/",
          "height": 438
        },
        "id": "v_byKPynQYrJ",
        "outputId": "df58fd2b-00f4-43c5-c6ca-288d128f27d0"
      },
      "outputs": [
        {
          "output_type": "execute_result",
          "data": {
            "text/plain": [
              "[Text(0, 0, 'Centro'),\n",
              " Text(0, 0, 'Lagoa da Conceição'),\n",
              " Text(0, 0, 'Canasvieiras'),\n",
              " Text(0, 0, 'Ingleses'),\n",
              " Text(0, 0, 'Jurerê')]"
            ]
          },
          "metadata": {},
          "execution_count": 39
        },
        {
          "output_type": "display_data",
          "data": {
            "image/png": "[encoded data removed]",
            "text/plain": [
              "<Figure size 432x288 with 1 Axes>"
            ]
          },
          "metadata": {
            "needs_background": "light"
          }
        }
      ],
      "source": [
        "g = sns.barplot(x='Bairro', y='Preço médio',\n",
        "                data=df_faturamento_medio_por_bairro.reset_index(),\n",
        "                palette=\"Blues_d\")\n",
        "\n",
        "g.set_xticklabels(df_faturamento_medio_por_bairro.reset_index()['Bairro'],\n",
        "                  rotation=45,\n",
        "                  horizontalalignment='right')"
      ]
    },
    {
      "cell_type": "markdown",
      "metadata": {
        "id": "QVp5lJu_QKy5"
      },
      "source": [
        "# 3) Existem correlações entre as características de um anúncio e seu faturamento?"
      ]
    },
    {
      "cell_type": "markdown",
      "metadata": {
        "id": "RNchfGEbg6Xm"
      },
      "source": [
        "Encontrar o faturamento total para cada anúncio *individualmente*"
      ]
    },
    {
      "cell_type": "code",
      "execution_count": 40,
      "metadata": {
        "id": "pX8bNWyMQOMh"
      },
      "outputs": [],
      "source": [
        "# agrupar pelo ID e somar\n",
        "df_faturamento_total_por_anuncio = df_merge.groupby(\"airbnb_listing_id\").sum()\n",
        "df_faturamento_total_por_anuncio = df_faturamento_total_por_anuncio[['price_string']].reset_index()\n",
        "df_faturamento_total_por_anuncio.columns = ['airbnb_listing_id', 'faturamento']"
      ]
    },
    {
      "cell_type": "code",
      "execution_count": 41,
      "metadata": {
        "id": "Pe_OQM5PhFtl"
      },
      "outputs": [],
      "source": [
        "# unir df_faturamento_total_por_anuncio versus features do anuncio (df_details)\n",
        "df_merge = df_faturamento_total_por_anuncio.merge(df_details, on = \"airbnb_listing_id\")"
      ]
    },
    {
      "cell_type": "code",
      "execution_count": 42,
      "metadata": {
        "id": "4SA06ePq8r4T"
      },
      "outputs": [],
      "source": [
        "# Criar coluna dicotomicas para cada bairro (para analisar a correlação individualmente)\n",
        "\n",
        "# Criar uma lista com os bairros que constam no\n",
        "bairros = df_merge['suburb'].unique()\n",
        "\n",
        "# Para cada bairro será criada uma coluna com 1 ou 0. 1 representa sim - 0 representa não. \n",
        "for i in bairros:\n",
        "  selecao = df_merge['suburb'].isin([i])\n",
        "  selecao = selecao.astype(int)\n",
        "  df_merge[i] = selecao\n",
        "\n",
        "# Agora a coluna de bairros \"suburb\" pod ser removida do DataFrame\n",
        "df_merge.drop('suburb', axis=1, inplace=True)"
      ]
    },
    {
      "cell_type": "code",
      "source": [
        "# Será criada uma lista com palavras chaves. \n",
        "# Se alguma dessas palavras constar no campo \"ad_name\", será criada a uma variável \"1\". Caso contrário \"0\" indicando não.\n",
        "# A ideia é perceber se o que que está sendo anunciado por escrito está correlacionado com o faturamento\n",
        "\n",
        "lista_keywords = ['cobertura', 'piscina', 'duplex', 'triplex',\n",
        "                  'decorado', 'privativ', 'ampl', 'panorâmic',\n",
        "                  'alto padr', 'luxo', 'nobre', 'churrasqueira',\n",
        "                  'segurança', 'amplo']\n",
        "\n",
        "pattern = '|'.join(lista_keywords)\n",
        "df_merge['keywords'] = df_merge['ad_name'].str.contains(pattern, case=False)\n",
        "\n",
        "# Trocar true/false to 1/0 em keywords\n",
        "df_merge['keywords'] = df_merge['keywords'].astype(int)"
      ],
      "metadata": {
        "id": "sAQMGu7TVMpp"
      },
      "execution_count": 43,
      "outputs": []
    },
    {
      "cell_type": "code",
      "source": [
        "# Trocar true/false to 1/0 em is_superhost\n",
        "df_merge['is_superhost'] = df_merge['is_superhost'].astype(int)\n",
        "\n",
        "#selecao para retirar rows com NaN\n",
        "selecao = ( df_merge['number_of_bedrooms'].notna() ) & ( df_merge['number_of_bathrooms'].notna() ) & ( df_merge['star_rating'].notna() ) & ( df_merge['number_of_reviews'].notna())\n",
        "\n",
        "df_merge = df_merge[selecao]"
      ],
      "metadata": {
        "id": "H4fblEaYVVgg"
      },
      "execution_count": 44,
      "outputs": []
    },
    {
      "cell_type": "code",
      "execution_count": 45,
      "metadata": {
        "id": "DIkD2O6lDGLn"
      },
      "outputs": [],
      "source": [
        "# Remover a coluna dos identificadores ID. Nesse momento não são mais necessários\n",
        "df_merge.drop('airbnb_listing_id', axis=1, inplace=True)\n",
        "\n",
        "# Fazer as correlações de Pearson\n",
        "correlacao = df_merge.corr()\n",
        "correlacao = correlacao.head(1)\n",
        "correlacao.drop('faturamento', axis=1, inplace=True)\n",
        "\n",
        "# Renomear colunas para melhorar apresentação\n",
        "correlacao.columns = ['numero_de_quartos', 'numero_de_banheiros', 'classificacão', 'superhost',\n",
        "                      'numero_de_review', 'Canasvieiras', 'Ingleses', 'Lagoa da Conceição',\n",
        "                      'Jurerê', 'Centro', 'keywords']\n"
      ]
    },
    {
      "cell_type": "code",
      "execution_count": 46,
      "metadata": {
        "id": "y9uY5EUkPCu-",
        "colab": {
          "base_uri": "https://localhost:8080/",
          "height": 81
        },
        "outputId": "4f8195cc-2129-4a8a-8ba9-6e6385139e36"
      },
      "outputs": [
        {
          "output_type": "execute_result",
          "data": {
            "text/html": [
              "<style  type=\"text/css\" >\n",
              "#T_7b2aa602_7e4f_11ec_94c6_0242ac1c0002row0_col0{\n",
              "            background-color:  #083979;\n",
              "            color:  #f1f1f1;\n",
              "        }#T_7b2aa602_7e4f_11ec_94c6_0242ac1c0002row0_col1{\n",
              "            background-color:  #08306b;\n",
              "            color:  #f1f1f1;\n",
              "        }#T_7b2aa602_7e4f_11ec_94c6_0242ac1c0002row0_col2,#T_7b2aa602_7e4f_11ec_94c6_0242ac1c0002row0_col4{\n",
              "            background-color:  #4997c9;\n",
              "            color:  #000000;\n",
              "        }#T_7b2aa602_7e4f_11ec_94c6_0242ac1c0002row0_col3{\n",
              "            background-color:  #4695c8;\n",
              "            color:  #000000;\n",
              "        }#T_7b2aa602_7e4f_11ec_94c6_0242ac1c0002row0_col5{\n",
              "            background-color:  #dfecf7;\n",
              "            color:  #000000;\n",
              "        }#T_7b2aa602_7e4f_11ec_94c6_0242ac1c0002row0_col6{\n",
              "            background-color:  #84bcdb;\n",
              "            color:  #000000;\n",
              "        }#T_7b2aa602_7e4f_11ec_94c6_0242ac1c0002row0_col7{\n",
              "            background-color:  #e3eef8;\n",
              "            color:  #000000;\n",
              "        }#T_7b2aa602_7e4f_11ec_94c6_0242ac1c0002row0_col8{\n",
              "            background-color:  #125ea6;\n",
              "            color:  #f1f1f1;\n",
              "        }#T_7b2aa602_7e4f_11ec_94c6_0242ac1c0002row0_col9{\n",
              "            background-color:  #f7fbff;\n",
              "            color:  #000000;\n",
              "        }#T_7b2aa602_7e4f_11ec_94c6_0242ac1c0002row0_col10{\n",
              "            background-color:  #105ba4;\n",
              "            color:  #f1f1f1;\n",
              "        }</style><table id=\"T_7b2aa602_7e4f_11ec_94c6_0242ac1c0002\" class=\"dataframe\"><thead>    <tr>        <th class=\"blank level0\" ></th>        <th class=\"col_heading level0 col0\" >numero_de_quartos</th>        <th class=\"col_heading level0 col1\" >numero_de_banheiros</th>        <th class=\"col_heading level0 col2\" >classificacão</th>        <th class=\"col_heading level0 col3\" >superhost</th>        <th class=\"col_heading level0 col4\" >numero_de_review</th>        <th class=\"col_heading level0 col5\" >Canasvieiras</th>        <th class=\"col_heading level0 col6\" >Ingleses</th>        <th class=\"col_heading level0 col7\" >Lagoa da Conceição</th>        <th class=\"col_heading level0 col8\" >Jurerê</th>        <th class=\"col_heading level0 col9\" >Centro</th>        <th class=\"col_heading level0 col10\" >keywords</th>    </tr></thead><tbody>\n",
              "                <tr>\n",
              "                        <th id=\"T_7b2aa602_7e4f_11ec_94c6_0242ac1c0002level0_row0\" class=\"row_heading level0 row0\" >faturamento</th>\n",
              "                        <td id=\"T_7b2aa602_7e4f_11ec_94c6_0242ac1c0002row0_col0\" class=\"data row0 col0\" >0.21</td>\n",
              "                        <td id=\"T_7b2aa602_7e4f_11ec_94c6_0242ac1c0002row0_col1\" class=\"data row0 col1\" >0.23</td>\n",
              "                        <td id=\"T_7b2aa602_7e4f_11ec_94c6_0242ac1c0002row0_col2\" class=\"data row0 col2\" >0.09</td>\n",
              "                        <td id=\"T_7b2aa602_7e4f_11ec_94c6_0242ac1c0002row0_col3\" class=\"data row0 col3\" >0.09</td>\n",
              "                        <td id=\"T_7b2aa602_7e4f_11ec_94c6_0242ac1c0002row0_col4\" class=\"data row0 col4\" >0.09</td>\n",
              "                        <td id=\"T_7b2aa602_7e4f_11ec_94c6_0242ac1c0002row0_col5\" class=\"data row0 col5\" >-0.07</td>\n",
              "                        <td id=\"T_7b2aa602_7e4f_11ec_94c6_0242ac1c0002row0_col6\" class=\"data row0 col6\" >0.04</td>\n",
              "                        <td id=\"T_7b2aa602_7e4f_11ec_94c6_0242ac1c0002row0_col7\" class=\"data row0 col7\" >-0.08</td>\n",
              "                        <td id=\"T_7b2aa602_7e4f_11ec_94c6_0242ac1c0002row0_col8\" class=\"data row0 col8\" >0.17</td>\n",
              "                        <td id=\"T_7b2aa602_7e4f_11ec_94c6_0242ac1c0002row0_col9\" class=\"data row0 col9\" >-0.11</td>\n",
              "                        <td id=\"T_7b2aa602_7e4f_11ec_94c6_0242ac1c0002row0_col10\" class=\"data row0 col10\" >0.17</td>\n",
              "            </tr>\n",
              "    </tbody></table>"
            ],
            "text/plain": [
              "<pandas.io.formats.style.Styler at 0x7fc2ad35cc50>"
            ]
          },
          "metadata": {},
          "execution_count": 46
        }
      ],
      "source": [
        "# Usar um gradiente de cores em \"Azul\" para indicar quais correlações são mais fortes. Quanto mais escuro mais forte é a correlação de Pearson.\n",
        "rs = np.random.RandomState(0)\n",
        "df = pd.DataFrame(rs.rand(10, 10))\n",
        "\n",
        "correlacao.style.background_gradient(cmap='Blues', axis=1).set_precision(2)"
      ]
    },
    {
      "cell_type": "markdown",
      "source": [
        "# 4) Qual a antecedência média das reservas? Esse número é maior ou menor para finais de semana?"
      ],
      "metadata": {
        "id": "uebRYWddayg3"
      }
    },
    {
      "cell_type": "markdown",
      "source": [
        "Antecedência é a diferença entre a data de reserva (booked_on) e a data alugada (date)\n"
      ],
      "metadata": {
        "id": "hXUQVnteT_re"
      }
    },
    {
      "cell_type": "markdown",
      "source": [
        "## Antecedência média das reservas"
      ],
      "metadata": {
        "id": "M8KpEAhLWV4r"
      }
    },
    {
      "cell_type": "code",
      "source": [
        "pd.options.mode.chained_assignment = None  # default='warn'. Em caso de warning, vai printar \n",
        "\n",
        "df_alugado = df_price.query(\"booked_on != 'blank'\")\n",
        "\n",
        "\n",
        "df_alugado['date'] = pd.to_datetime(df_alugado['date'])\n",
        "df_alugado['booked_on'] = pd.to_datetime(df_alugado['booked_on'])\n",
        "df_alugado['antecedencia'] = df_alugado['date'] - df_alugado['booked_on']\n",
        "\n",
        "df_alugado.head(20)"
      ],
      "metadata": {
        "id": "RlBOI-3DbLDk",
        "colab": {
          "base_uri": "https://localhost:8080/",
          "height": 676
        },
        "outputId": "cd2588be-cc69-4de2-df3c-f2633bc14e21"
      },
      "execution_count": 47,
      "outputs": [
        {
          "output_type": "execute_result",
          "data": {
            "text/html": [
              "\n",
              "  <div id=\"df-5ca065a4-5989-4184-bacc-2fb9a575e952\">\n",
              "    <div class=\"colab-df-container\">\n",
              "      <div>\n",
              "<style scoped>\n",
              "    .dataframe tbody tr th:only-of-type {\n",
              "        vertical-align: middle;\n",
              "    }\n",
              "\n",
              "    .dataframe tbody tr th {\n",
              "        vertical-align: top;\n",
              "    }\n",
              "\n",
              "    .dataframe thead th {\n",
              "        text-align: right;\n",
              "    }\n",
              "</style>\n",
              "<table border=\"1\" class=\"dataframe\">\n",
              "  <thead>\n",
              "    <tr style=\"text-align: right;\">\n",
              "      <th></th>\n",
              "      <th>airbnb_listing_id</th>\n",
              "      <th>booked_on</th>\n",
              "      <th>date</th>\n",
              "      <th>price_string</th>\n",
              "      <th>occupied</th>\n",
              "      <th>antecedencia</th>\n",
              "    </tr>\n",
              "  </thead>\n",
              "  <tbody>\n",
              "    <tr>\n",
              "      <th>12</th>\n",
              "      <td>40206270</td>\n",
              "      <td>2021-01-01</td>\n",
              "      <td>2021-01-01</td>\n",
              "      <td>380.0</td>\n",
              "      <td>1</td>\n",
              "      <td>0 days</td>\n",
              "    </tr>\n",
              "    <tr>\n",
              "      <th>13</th>\n",
              "      <td>40206270</td>\n",
              "      <td>2021-01-01</td>\n",
              "      <td>2021-01-02</td>\n",
              "      <td>380.0</td>\n",
              "      <td>1</td>\n",
              "      <td>1 days</td>\n",
              "    </tr>\n",
              "    <tr>\n",
              "      <th>52</th>\n",
              "      <td>40206270</td>\n",
              "      <td>2021-02-10</td>\n",
              "      <td>2021-02-10</td>\n",
              "      <td>195.0</td>\n",
              "      <td>1</td>\n",
              "      <td>0 days</td>\n",
              "    </tr>\n",
              "    <tr>\n",
              "      <th>53</th>\n",
              "      <td>40206270</td>\n",
              "      <td>2021-02-10</td>\n",
              "      <td>2021-02-11</td>\n",
              "      <td>350.0</td>\n",
              "      <td>1</td>\n",
              "      <td>1 days</td>\n",
              "    </tr>\n",
              "    <tr>\n",
              "      <th>54</th>\n",
              "      <td>40206270</td>\n",
              "      <td>2021-02-10</td>\n",
              "      <td>2021-02-12</td>\n",
              "      <td>350.0</td>\n",
              "      <td>1</td>\n",
              "      <td>2 days</td>\n",
              "    </tr>\n",
              "    <tr>\n",
              "      <th>56</th>\n",
              "      <td>40206270</td>\n",
              "      <td>2021-02-10</td>\n",
              "      <td>2021-02-13</td>\n",
              "      <td>350.0</td>\n",
              "      <td>1</td>\n",
              "      <td>3 days</td>\n",
              "    </tr>\n",
              "    <tr>\n",
              "      <th>58</th>\n",
              "      <td>40206270</td>\n",
              "      <td>2021-02-10</td>\n",
              "      <td>2021-02-14</td>\n",
              "      <td>350.0</td>\n",
              "      <td>1</td>\n",
              "      <td>4 days</td>\n",
              "    </tr>\n",
              "    <tr>\n",
              "      <th>60</th>\n",
              "      <td>40206270</td>\n",
              "      <td>2021-02-10</td>\n",
              "      <td>2021-02-15</td>\n",
              "      <td>350.0</td>\n",
              "      <td>1</td>\n",
              "      <td>5 days</td>\n",
              "    </tr>\n",
              "    <tr>\n",
              "      <th>61</th>\n",
              "      <td>40206270</td>\n",
              "      <td>2021-02-10</td>\n",
              "      <td>2021-02-16</td>\n",
              "      <td>350.0</td>\n",
              "      <td>1</td>\n",
              "      <td>6 days</td>\n",
              "    </tr>\n",
              "    <tr>\n",
              "      <th>62</th>\n",
              "      <td>40206270</td>\n",
              "      <td>2021-02-10</td>\n",
              "      <td>2021-02-17</td>\n",
              "      <td>195.0</td>\n",
              "      <td>1</td>\n",
              "      <td>7 days</td>\n",
              "    </tr>\n",
              "    <tr>\n",
              "      <th>63</th>\n",
              "      <td>40206270</td>\n",
              "      <td>2021-02-10</td>\n",
              "      <td>2021-02-18</td>\n",
              "      <td>195.0</td>\n",
              "      <td>1</td>\n",
              "      <td>8 days</td>\n",
              "    </tr>\n",
              "    <tr>\n",
              "      <th>64</th>\n",
              "      <td>40206270</td>\n",
              "      <td>2021-02-10</td>\n",
              "      <td>2021-02-19</td>\n",
              "      <td>195.0</td>\n",
              "      <td>1</td>\n",
              "      <td>9 days</td>\n",
              "    </tr>\n",
              "    <tr>\n",
              "      <th>65</th>\n",
              "      <td>40206270</td>\n",
              "      <td>2021-02-10</td>\n",
              "      <td>2021-02-20</td>\n",
              "      <td>195.0</td>\n",
              "      <td>1</td>\n",
              "      <td>10 days</td>\n",
              "    </tr>\n",
              "    <tr>\n",
              "      <th>66</th>\n",
              "      <td>40206270</td>\n",
              "      <td>2021-02-10</td>\n",
              "      <td>2021-02-21</td>\n",
              "      <td>195.0</td>\n",
              "      <td>1</td>\n",
              "      <td>11 days</td>\n",
              "    </tr>\n",
              "    <tr>\n",
              "      <th>67</th>\n",
              "      <td>40206270</td>\n",
              "      <td>2021-02-10</td>\n",
              "      <td>2021-02-22</td>\n",
              "      <td>195.0</td>\n",
              "      <td>1</td>\n",
              "      <td>12 days</td>\n",
              "    </tr>\n",
              "    <tr>\n",
              "      <th>68</th>\n",
              "      <td>40206270</td>\n",
              "      <td>2021-02-10</td>\n",
              "      <td>2021-02-23</td>\n",
              "      <td>195.0</td>\n",
              "      <td>1</td>\n",
              "      <td>13 days</td>\n",
              "    </tr>\n",
              "    <tr>\n",
              "      <th>69</th>\n",
              "      <td>40206270</td>\n",
              "      <td>2021-02-10</td>\n",
              "      <td>2021-02-24</td>\n",
              "      <td>195.0</td>\n",
              "      <td>1</td>\n",
              "      <td>14 days</td>\n",
              "    </tr>\n",
              "    <tr>\n",
              "      <th>70</th>\n",
              "      <td>40206270</td>\n",
              "      <td>2021-02-10</td>\n",
              "      <td>2021-02-25</td>\n",
              "      <td>195.0</td>\n",
              "      <td>1</td>\n",
              "      <td>15 days</td>\n",
              "    </tr>\n",
              "    <tr>\n",
              "      <th>71</th>\n",
              "      <td>40206270</td>\n",
              "      <td>2021-02-10</td>\n",
              "      <td>2021-02-26</td>\n",
              "      <td>195.0</td>\n",
              "      <td>1</td>\n",
              "      <td>16 days</td>\n",
              "    </tr>\n",
              "    <tr>\n",
              "      <th>72</th>\n",
              "      <td>40206270</td>\n",
              "      <td>2021-02-10</td>\n",
              "      <td>2021-02-27</td>\n",
              "      <td>195.0</td>\n",
              "      <td>1</td>\n",
              "      <td>17 days</td>\n",
              "    </tr>\n",
              "  </tbody>\n",
              "</table>\n",
              "</div>\n",
              "      <button class=\"colab-df-convert\" onclick=\"convertToInteractive('df-5ca065a4-5989-4184-bacc-2fb9a575e952')\"\n",
              "              title=\"Convert this dataframe to an interactive table.\"\n",
              "              style=\"display:none;\">\n",
              "        \n",
              "  <svg xmlns=\"http://www.w3.org/2000/svg\" height=\"24px\"viewBox=\"0 0 24 24\"\n",
              "       width=\"24px\">\n",
              "    <path d=\"M0 0h24v24H0V0z\" fill=\"none\"/>\n",
              "    <path d=\"M18.56 5.44l.94 2.06.94-2.06 2.06-.94-2.06-.94-.94-2.06-.94 2.06-2.06.94zm-11 1L8.5 8.5l.94-2.06 2.06-.94-2.06-.94L8.5 2.5l-.94 2.06-2.06.94zm10 10l.94 2.06.94-2.06 2.06-.94-2.06-.94-.94-2.06-.94 2.06-2.06.94z\"/><path d=\"M17.41 7.96l-1.37-1.37c-.4-.4-.92-.59-1.43-.59-.52 0-1.04.2-1.43.59L10.3 9.45l-7.72 7.72c-.78.78-.78 2.05 0 2.83L4 21.41c.39.39.9.59 1.41.59.51 0 1.02-.2 1.41-.59l7.78-7.78 2.81-2.81c.8-.78.8-2.07 0-2.86zM5.41 20L4 18.59l7.72-7.72 1.47 1.35L5.41 20z\"/>\n",
              "  </svg>\n",
              "      </button>\n",
              "      \n",
              "  <style>\n",
              "    .colab-df-container {\n",
              "      display:flex;\n",
              "      flex-wrap:wrap;\n",
              "      gap: 12px;\n",
              "    }\n",
              "\n",
              "    .colab-df-convert {\n",
              "      background-color: #E8F0FE;\n",
              "      border: none;\n",
              "      border-radius: 50%;\n",
              "      cursor: pointer;\n",
              "      display: none;\n",
              "      fill: #1967D2;\n",
              "      height: 32px;\n",
              "      padding: 0 0 0 0;\n",
              "      width: 32px;\n",
              "    }\n",
              "\n",
              "    .colab-df-convert:hover {\n",
              "      background-color: #E2EBFA;\n",
              "      box-shadow: 0px 1px 2px rgba(60, 64, 67, 0.3), 0px 1px 3px 1px rgba(60, 64, 67, 0.15);\n",
              "      fill: #174EA6;\n",
              "    }\n",
              "\n",
              "    [theme=dark] .colab-df-convert {\n",
              "      background-color: #3B4455;\n",
              "      fill: #D2E3FC;\n",
              "    }\n",
              "\n",
              "    [theme=dark] .colab-df-convert:hover {\n",
              "      background-color: #434B5C;\n",
              "      box-shadow: 0px 1px 3px 1px rgba(0, 0, 0, 0.15);\n",
              "      filter: drop-shadow(0px 1px 2px rgba(0, 0, 0, 0.3));\n",
              "      fill: #FFFFFF;\n",
              "    }\n",
              "  </style>\n",
              "\n",
              "      <script>\n",
              "        const buttonEl =\n",
              "          document.querySelector('#df-5ca065a4-5989-4184-bacc-2fb9a575e952 button.colab-df-convert');\n",
              "        buttonEl.style.display =\n",
              "          google.colab.kernel.accessAllowed ? 'block' : 'none';\n",
              "\n",
              "        async function convertToInteractive(key) {\n",
              "          const element = document.querySelector('#df-5ca065a4-5989-4184-bacc-2fb9a575e952');\n",
              "          const dataTable =\n",
              "            await google.colab.kernel.invokeFunction('convertToInteractive',\n",
              "                                                     [key], {});\n",
              "          if (!dataTable) return;\n",
              "\n",
              "          const docLinkHtml = 'Like what you see? Visit the ' +\n",
              "            '<a target=\"_blank\" href=https://colab.research.google.com/notebooks/data_table.ipynb>data table notebook</a>'\n",
              "            + ' to learn more about interactive tables.';\n",
              "          element.innerHTML = '';\n",
              "          dataTable['output_type'] = 'display_data';\n",
              "          await google.colab.output.renderOutput(dataTable, element);\n",
              "          const docLink = document.createElement('div');\n",
              "          docLink.innerHTML = docLinkHtml;\n",
              "          element.appendChild(docLink);\n",
              "        }\n",
              "      </script>\n",
              "    </div>\n",
              "  </div>\n",
              "  "
            ],
            "text/plain": [
              "    airbnb_listing_id  booked_on  ... occupied  antecedencia\n",
              "12           40206270 2021-01-01  ...        1        0 days\n",
              "13           40206270 2021-01-01  ...        1        1 days\n",
              "52           40206270 2021-02-10  ...        1        0 days\n",
              "53           40206270 2021-02-10  ...        1        1 days\n",
              "54           40206270 2021-02-10  ...        1        2 days\n",
              "56           40206270 2021-02-10  ...        1        3 days\n",
              "58           40206270 2021-02-10  ...        1        4 days\n",
              "60           40206270 2021-02-10  ...        1        5 days\n",
              "61           40206270 2021-02-10  ...        1        6 days\n",
              "62           40206270 2021-02-10  ...        1        7 days\n",
              "63           40206270 2021-02-10  ...        1        8 days\n",
              "64           40206270 2021-02-10  ...        1        9 days\n",
              "65           40206270 2021-02-10  ...        1       10 days\n",
              "66           40206270 2021-02-10  ...        1       11 days\n",
              "67           40206270 2021-02-10  ...        1       12 days\n",
              "68           40206270 2021-02-10  ...        1       13 days\n",
              "69           40206270 2021-02-10  ...        1       14 days\n",
              "70           40206270 2021-02-10  ...        1       15 days\n",
              "71           40206270 2021-02-10  ...        1       16 days\n",
              "72           40206270 2021-02-10  ...        1       17 days\n",
              "\n",
              "[20 rows x 6 columns]"
            ]
          },
          "metadata": {},
          "execution_count": 47
        }
      ]
    },
    {
      "cell_type": "code",
      "source": [
        "def retorna_antecendia(df):\n",
        "  dias = df.days\n",
        "  horas = df.seconds/3600\n",
        "  print(f'A antecedência média das reservas é de {dias} dias e {horas} horas')"
      ],
      "metadata": {
        "id": "JQ5zRhwkmQXc"
      },
      "execution_count": 48,
      "outputs": []
    },
    {
      "cell_type": "code",
      "source": [
        "# Calcular a média da antecedência média das reservas (de modo geral).\n",
        "\n",
        "df_antecedencia_media = df_alugado['antecedencia'].mean()\n",
        "retorna_antecendia(df_antecedencia_media)\n"
      ],
      "metadata": {
        "colab": {
          "base_uri": "https://localhost:8080/"
        },
        "id": "XR5h9baHdBYI",
        "outputId": "1a161d7f-c275-4867-84ac-586661e9d65f"
      },
      "execution_count": 49,
      "outputs": [
        {
          "output_type": "stream",
          "name": "stdout",
          "text": [
            "A antecedência média das reservas é de 32 dias e 8.465 horas\n"
          ]
        }
      ]
    },
    {
      "cell_type": "markdown",
      "source": [
        "## Antecedência média das reservas para fins de semana"
      ],
      "metadata": {
        "id": "pzv5GVIegJMC"
      }
    },
    {
      "cell_type": "markdown",
      "source": [
        "Considerando apenas reservas feitas para fins de semana\n"
      ],
      "metadata": {
        "id": "ihPIjmBEwQbd"
      }
    },
    {
      "cell_type": "code",
      "source": [
        "# Reservar para o final de semana (date)\n",
        "#df_alugado[\"reservado_para_dia_da_semana\"] = df_alugado['date'].dt.dayofweek\n",
        "df_alugado[\"reservar_para_fim_de_semana\"] = df_alugado['date'].dt.dayofweek > 4\n",
        "\n",
        "# Antecedência média - Reservar para o final de semana (date)\n",
        "df_antecedencia_media_fds = df_alugado.query(\"reservar_para_fim_de_semana == True\")['antecedencia'].mean()\n",
        "retorna_antecendia(df_antecedencia_media_fds)\n",
        "\n",
        "\n",
        "#df_alugado.head(20)"
      ],
      "metadata": {
        "colab": {
          "base_uri": "https://localhost:8080/"
        },
        "id": "u_v6Fk94gGq7",
        "outputId": "5d099223-a24f-41cb-9bd7-c19c690c18de"
      },
      "execution_count": 50,
      "outputs": [
        {
          "output_type": "stream",
          "name": "stdout",
          "text": [
            "A antecedência média das reservas é de 32 dias e 10.646666666666667 horas\n"
          ]
        }
      ]
    },
    {
      "cell_type": "markdown",
      "source": [
        "## **Conclusão**"
      ],
      "metadata": {
        "id": "eLxqFlt4paxj"
      }
    },
    {
      "cell_type": "markdown",
      "source": [
        "A antecedência média **geral** das reservas é de 32 dias e 8.465 horas\n",
        "\n",
        "Quando essa reserva é **feita exclusivamente para os fins de semana**, a antecedência média é de 32 dias e 10.6467 horas.\n",
        "\n",
        "Portanto a antecedência média **geral** é menor (por pouco) que a antecedência média de reservas **feitas exclusivamente para os fins de semana**.\n",
        "\n"
      ],
      "metadata": {
        "id": "pSbvxnMNpeQ5"
      }
    }
  ],
  "metadata": {
    "colab": {
      "name": "Seazone_Challenge.ipynb",
      "provenance": [],
      "collapsed_sections": [],
      "authorship_tag": "ABX9TyNvk8BChzJmzO4MIx9YJrY8",
      "include_colab_link": true
    },
    "kernelspec": {
      "display_name": "Python 3",
      "name": "python3"
    },
    "language_info": {
      "name": "python"
    }
  },
  "nbformat": 4,
  "nbformat_minor": 0
}